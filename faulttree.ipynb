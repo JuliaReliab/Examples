{
 "cells": [
  {
   "cell_type": "markdown",
   "metadata": {},
   "source": [
    "# FaultTree"
   ]
  },
  {
   "cell_type": "markdown",
   "metadata": {},
   "source": [
    "## Install\n",
    "\n",
    "Use Pkg to install the packages. The packages are located in GitHub.\n",
    "\n",
    "https://github.com/JuliaReliab/FaultTree.jl\n"
   ]
  },
  {
   "cell_type": "code",
   "execution_count": null,
   "metadata": {
    "tags": []
   },
   "outputs": [],
   "source": [
    "using Pkg\n",
    "Pkg.add(PackageSpec(url=\"https://github.com/JuliaReliab/DD.jl.git\"))\n",
    "Pkg.add(PackageSpec(url=\"https://github.com/JuliaReliab/FaultTree.jl.git\"))"
   ]
  },
  {
   "cell_type": "markdown",
   "metadata": {},
   "source": [
    "### Install Graphviz"
   ]
  },
  {
   "cell_type": "code",
   "execution_count": null,
   "metadata": {
    "tags": []
   },
   "outputs": [],
   "source": [
    ";sudo apt-get update -y"
   ]
  },
  {
   "cell_type": "code",
   "execution_count": null,
   "metadata": {
    "tags": []
   },
   "outputs": [],
   "source": [
    ";sudo apt-get install -y graphviz"
   ]
  },
  {
   "cell_type": "code",
   "execution_count": null,
   "metadata": {
    "tags": []
   },
   "outputs": [],
   "source": [
    "using Pkg\n",
    "Pkg.add(PackageSpec(url=\"https://github.com/JuliaReliab/JuliaDot.jl.git\"))"
   ]
  },
  {
   "cell_type": "markdown",
   "metadata": {},
   "source": [
    "## Initialize\n",
    "\n",
    "Load `FaultTree`"
   ]
  },
  {
   "cell_type": "code",
   "execution_count": null,
   "metadata": {
    "tags": []
   },
   "outputs": [],
   "source": [
    "using DD.BDD\n",
    "using FaultTree\n",
    "using JuliaDot"
   ]
  },
  {
   "cell_type": "markdown",
   "metadata": {},
   "source": [
    "### Example 1"
   ]
  },
  {
   "cell_type": "markdown",
   "metadata": {},
   "source": [
    "#### Definition of FT model"
   ]
  },
  {
   "cell_type": "code",
   "execution_count": null,
   "metadata": {
    "tags": []
   },
   "outputs": [],
   "source": [
    "@basic x, y, z\n",
    "te = x & y | z"
   ]
  },
  {
   "cell_type": "markdown",
   "metadata": {},
   "source": [
    "### Draw BDD"
   ]
  },
  {
   "cell_type": "code",
   "execution_count": 56,
   "metadata": {
    "tags": []
   },
   "outputs": [
    {
     "data": {
      "image/png": "[encoded data removed]",
      "text/plain": [
       "JuliaDot.DrawResult(UInt8[0x89, 0x50, 0x4e, 0x47, 0x0d, 0x0a, 0x1a, 0x0a, 0x00, 0x00  …  0x00, 0x00, 0x49, 0x45, 0x4e, 0x44, 0xae, 0x42, 0x60, 0x82])"
      ]
     },
     "execution_count": 56,
     "metadata": {},
     "output_type": "execute_result"
    }
   ],
   "source": [
    "ft = FTree()\n",
    "f = ftbdd!(ft, te)\n",
    "draw(BDD.todot(f))"
   ]
  },
  {
   "cell_type": "markdown",
   "metadata": {},
   "source": [
    "#### Minimal path (cut) set"
   ]
  },
  {
   "cell_type": "code",
   "execution_count": null,
   "metadata": {
    "tags": []
   },
   "outputs": [],
   "source": [
    "mcs(ft, te)"
   ]
  },
  {
   "cell_type": "markdown",
   "metadata": {
    "tags": []
   },
   "source": [
    "#### Eval top event (system reliability)"
   ]
  },
  {
   "cell_type": "code",
   "execution_count": null,
   "metadata": {
    "tags": []
   },
   "outputs": [],
   "source": [
    "env = @parameters begin\n",
    "    x = 0.999\n",
    "    y = 0.999\n",
    "    z = 0.999\n",
    "end\n",
    "\n",
    "prob(ft, te, env)"
   ]
  },
  {
   "cell_type": "code",
   "execution_count": null,
   "metadata": {
    "tags": []
   },
   "outputs": [],
   "source": [
    "## Structure importance\n",
    "smeas(ft, te)"
   ]
  },
  {
   "cell_type": "markdown",
   "metadata": {},
   "source": [
    "## Example 2\n",
    "\n",
    "A FT example of Figure 9.20 in R.A. Sahner, K.S. Trivedi and A. Puliafito, Performance and Reliability Analysis of Computer Systems, Kluwer Academic Publishers, 1996."
   ]
  },
  {
   "cell_type": "code",
   "execution_count": null,
   "metadata": {
    "tags": []
   },
   "outputs": [],
   "source": [
    "## aircraft flight control system\n",
    "\n",
    "## events\n",
    "@basic IRS, PRS, CS, SA\n",
    "\n",
    "IRS23 = ftkofn(2, [IRS for _ = 1:3]...)\n",
    "PRS23 = ftkofn(2, [PRS for _ = 1:3]...)\n",
    "CS34 = ftkofn(3, [CS for _ = 1:4]...)\n",
    "SAS23 = ftkofn(2, [SA for _ = 1:3]...)\n",
    "TOP = IRS23 | PRS23 | CS34 | SAS23"
   ]
  },
  {
   "cell_type": "code",
   "execution_count": null,
   "metadata": {
    "tags": []
   },
   "outputs": [],
   "source": [
    "## Compute\n",
    "ft = FTree()\n",
    "\n",
    "mIRS = 0.000015\n",
    "mPRS = 0.000019\n",
    "mSA  = 0.000037\n",
    "mCS  = 0.00048\n",
    "\n",
    "function mkenv(t; mIRS, mPRS, mSA, mCS)\n",
    "    @parameters begin\n",
    "        IRS = 1-exp(-mIRS*t)\n",
    "        PRS = 1-exp(-mPRS*t)\n",
    "        CS = 1-exp(-mCS*t)\n",
    "        SA = 1-exp(-mSA*t)\n",
    "    end\n",
    "end\n",
    "\n",
    "[(t, prob(ft, TOP, mkenv(t; mIRS=mIRS, mPRS=mPRS, mSA=mSA, mCS=mCS))) for t = 1000:1000:10000]"
   ]
  },
  {
   "cell_type": "code",
   "execution_count": null,
   "metadata": {
    "tags": []
   },
   "outputs": [],
   "source": [
    "## Structure importance\n",
    "smeas(ft, TOP)"
   ]
  },
  {
   "cell_type": "code",
   "execution_count": null,
   "metadata": {
    "tags": []
   },
   "outputs": [],
   "source": [
    "## Birnbaum importance\n",
    "[(t, bmeas(ft, TOP, mkenv(t; mIRS=mIRS, mPRS=mPRS, mSA=mSA, mCS=mCS))) for t = 1000:1000:10000]"
   ]
  },
  {
   "cell_type": "code",
   "execution_count": null,
   "metadata": {
    "tags": []
   },
   "outputs": [],
   "source": [
    "## Criticality importance\n",
    "[(t, c0meas(ft, TOP, mkenv(t; mIRS=mIRS, mPRS=mPRS, mSA=mSA, mCS=mCS))) for t = 1000:1000:10000]"
   ]
  },
  {
   "cell_type": "code",
   "execution_count": null,
   "metadata": {
    "tags": []
   },
   "outputs": [],
   "source": [
    "## Criticality importance\n",
    "[(t, c1meas(ft, TOP, mkenv(t; mIRS=mIRS, mPRS=mPRS, mSA=mSA, mCS=mCS))) for t = 1000:1000:10000]"
   ]
  },
  {
   "cell_type": "code",
   "execution_count": null,
   "metadata": {},
   "outputs": [],
   "source": []
  }
 ],
 "metadata": {
  "kernelspec": {
   "display_name": "Julia 1.8.5",
   "language": "julia",
   "name": "julia-1.8"
  },
  "language_info": {
   "file_extension": ".jl",
   "mimetype": "application/julia",
   "name": "julia",
   "version": "1.8.5"
  }
 },
 "nbformat": 4,
 "nbformat_minor": 4
}
