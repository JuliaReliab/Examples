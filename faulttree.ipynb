{
 "cells": [
  {
   "cell_type": "markdown",
   "metadata": {},
   "source": [
    "# FaultTree"
   ]
  },
  {
   "cell_type": "markdown",
   "metadata": {},
   "source": [
    "## Install\n",
    "\n",
    "Use Pkg to install the packages. The packages are located in GitHub. Please run the following commands:\n",
    "\n",
    "- For Julia 1.0.5\n",
    "```julia\n",
    "using Pkg\n",
    "Pkg.add(PackageSpec(url=\"https://github.com/JuliaReliab/DD.jl.git\"))\n",
    "Pkg.add(PackageSpec(url=\"https://github.com/JuliaReliab/FaultTree.jl.git\"))\n",
    "Pkg.add(PackageSpec(url=\"https://github.com/JuliaReliab/JuliaDot.jl.git\"))\n",
    "```"
   ]
  },
  {
   "cell_type": "code",
   "execution_count": null,
   "metadata": {},
   "outputs": [],
   "source": [
    "using Pkg\n",
    "Pkg.add(PackageSpec(url=\"https://github.com/JuliaReliab/DD.jl.git\"))\n",
    "Pkg.add(PackageSpec(url=\"https://github.com/JuliaReliab/FaultTree.jl.git\"))\n",
    "Pkg.add(PackageSpec(url=\"https://github.com/JuliaReliab/JuliaDot.jl.git\"))"
   ]
  },
  {
   "cell_type": "markdown",
   "metadata": {},
   "source": [
    "## Initialize\n",
    "\n",
    "Load `FaultTree` and `JuliaDot`. `JuliaDot` provides drawing a graph of fault trees and BDD, but the package `JuliaDot` depends on your own environment. If the loding `JuliaDot` fails, please remove (comment out) loading `JuliaDot`"
   ]
  },
  {
   "cell_type": "code",
   "execution_count": null,
   "metadata": {},
   "outputs": [],
   "source": [
    "using FaultTree\n",
    "using JuliaDot"
   ]
  },
  {
   "cell_type": "markdown",
   "metadata": {},
   "source": [
    "## Create Fault Trees\n",
    "\n",
    "### Basic operations\n",
    "\n",
    "- `ftevent`: create an event in fault tree such as a component failure. The argument is a label of event. The event is distinguished by the label.\n",
    "- `*` or `&`: AND gate\n",
    "- `+` or `|`: OR gate\n",
    "- `!` or `~`: NOT gate\n",
    "- `ftand(a, b, c, ...)`: AND gate that allows to take multiple events\n",
    "- `ftor(a, b, c, ...)`: OR gate that allows to take multiple events\n",
    "- `ftnot(a)`: NOT gate that is same as `!` and `~`\n",
    "- `ftkofn(k, a, b, c, ...)': K-out-of-N gate where `k` is the number of events that causes the failure"
   ]
  },
  {
   "cell_type": "markdown",
   "metadata": {},
   "source": [
    "### Example 1"
   ]
  },
  {
   "cell_type": "markdown",
   "metadata": {},
   "source": [
    "#### Definition of component failure events"
   ]
  },
  {
   "cell_type": "code",
   "execution_count": null,
   "metadata": {},
   "outputs": [],
   "source": [
    "x = ftevent(\"motor failure\") # motor failure\n",
    "y = ftevent(\"sensor failure\") # sensor failure\n",
    "z = ftevent(\"battery failure\") # battery failure"
   ]
  },
  {
   "cell_type": "markdown",
   "metadata": {},
   "source": [
    "#### Definition of fault tree to represent the system failure"
   ]
  },
  {
   "cell_type": "code",
   "execution_count": null,
   "metadata": {},
   "outputs": [],
   "source": [
    "system = ftor(x, y, z)"
   ]
  },
  {
   "cell_type": "markdown",
   "metadata": {},
   "source": [
    "#### Drawing a brief fault tree.\n",
    "\n",
    "This process requires that `JuliaDot` is successfully installed.\n",
    "If the install of `JuliaDot` failsed, run it and copyt the output\n",
    "```julia\n",
    "println(todot(system))\n",
    "```\n",
    "Use a graphviz like [Online Graphviz](https://dreampuf.github.io/GraphvizOnline/#digraph%20G%20%7B%0A%0A%20%20subgraph%20cluster_0%20%7B%0A%20%20%20%20style%3Dfilled%3B%0A%20%20%20%20color%3Dlightgrey%3B%0A%20%20%20%20node%20%5Bstyle%3Dfilled%2Ccolor%3Dwhite%5D%3B%0A%20%20%20%20a0%20-%3E%20a1%20-%3E%20a2%20-%3E%20a3%3B%0A%20%20%20%20label%20%3D%20%22process%20%231%22%3B%0A%20%20%7D%0A%0A%20%20subgraph%20cluster_1%20%7B%0A%20%20%20%20node%20%5Bstyle%3Dfilled%5D%3B%0A%20%20%20%20b0%20-%3E%20b1%20-%3E%20b2%20-%3E%20b3%3B%0A%20%20%20%20label%20%3D%20%22process%20%232%22%3B%0A%20%20%20%20color%3Dblue%0A%20%20%7D%0A%20%20start%20-%3E%20a0%3B%0A%20%20start%20-%3E%20b0%3B%0A%20%20a1%20-%3E%20b3%3B%0A%20%20b2%20-%3E%20a3%3B%0A%20%20a3%20-%3E%20a0%3B%0A%20%20a3%20-%3E%20end%3B%0A%20%20b3%20-%3E%20end%3B%0A%0A%20%20start%20%5Bshape%3DMdiamond%5D%3B%0A%20%20end%20%5Bshape%3DMsquare%5D%3B%0A%7D)"
   ]
  },
  {
   "cell_type": "code",
   "execution_count": null,
   "metadata": {},
   "outputs": [],
   "source": [
    "# println(todot(system))\n",
    "draw(todot(system))"
   ]
  },
  {
   "cell_type": "markdown",
   "metadata": {},
   "source": [
    "#### Minimal cut set"
   ]
  },
  {
   "cell_type": "code",
   "execution_count": null,
   "metadata": {},
   "outputs": [],
   "source": [
    "ftmcs(system)"
   ]
  },
  {
   "cell_type": "markdown",
   "metadata": {},
   "source": [
    "#### Define failure probabilities for compoments\n",
    "\n",
    "The following defintion uses the ftevent variables. But if we know the symbols for ftevent, we can use them as follows.\n",
    "```julia\n",
    "params = Dict(\n",
    "    Symbol(\"motor failure\") => 0.0001,\n",
    "    Symbol(\"sensor failure\") => 0.0001,\n",
    "    Symbol(\"battery failure\") => 0.0001\n",
    ")\n",
    "```"
   ]
  },
  {
   "cell_type": "code",
   "execution_count": null,
   "metadata": {},
   "outputs": [],
   "source": [
    "params = Dict(\n",
    "    x.var => 0.001, # failure probability for motor\n",
    "    y.var => 0.0001, # failure probability for sensor\n",
    "    z.var => 0.00001  # failure probability for battery\n",
    ")"
   ]
  },
  {
   "cell_type": "markdown",
   "metadata": {},
   "source": [
    "#### Compute the system failure probability"
   ]
  },
  {
   "cell_type": "code",
   "execution_count": null,
   "metadata": {},
   "outputs": [],
   "source": [
    "fteval(system, params)"
   ]
  },
  {
   "cell_type": "markdown",
   "metadata": {},
   "source": [
    "#### Birunbaum importance measure"
   ]
  },
  {
   "cell_type": "code",
   "execution_count": null,
   "metadata": {},
   "outputs": [],
   "source": [
    "# define the derivative for a parameter.\n",
    "dparams_x = Dict(x.var => 1.0, y.var => 0.0, z.var => 0.0)\n",
    "dparams_y = Dict(x.var => 0.0, y.var => 1.0, z.var => 0.0)\n",
    "dparams_z = Dict(x.var => 0.0, y.var => 0.0, z.var => 1.0)"
   ]
  },
  {
   "cell_type": "code",
   "execution_count": null,
   "metadata": {},
   "outputs": [],
   "source": [
    "using Printf\n",
    "@printf(\"%20s %.5f\\n\", x.var, fteval(system, params, dparams_x))\n",
    "@printf(\"%20s %.5f\\n\", y.var, fteval(system, params, dparams_y))\n",
    "@printf(\"%20s %.5f\\n\", z.var, fteval(system, params, dparams_z))"
   ]
  },
  {
   "cell_type": "markdown",
   "metadata": {},
   "source": [
    "### Example 2"
   ]
  },
  {
   "cell_type": "markdown",
   "metadata": {},
   "source": [
    "#### Definition of component failure events"
   ]
  },
  {
   "cell_type": "code",
   "execution_count": null,
   "metadata": {},
   "outputs": [],
   "source": [
    "x = [ftevent(\"motor failure \", i) for i = [\"arm1\", \"arm2\", \"arm3\"]]\n",
    "y = [ftevent(\"sensor failure \", i) for i = [\"left\", \"right\"]]\n",
    "z = ftevent(\"battery failure\")"
   ]
  },
  {
   "cell_type": "markdown",
   "metadata": {},
   "source": [
    "#### Definition of fault tree to represent the system failure"
   ]
  },
  {
   "cell_type": "code",
   "execution_count": null,
   "metadata": {},
   "outputs": [],
   "source": [
    "sub = [x[i] + z for i = 1:3]\n",
    "system = ftkofn(2, sub[1], sub[2], sub[3]) + (y[1] * y[2])"
   ]
  },
  {
   "cell_type": "markdown",
   "metadata": {},
   "source": [
    "#### Drawing a brief fault tree."
   ]
  },
  {
   "cell_type": "code",
   "execution_count": null,
   "metadata": {},
   "outputs": [],
   "source": [
    "## println(todot(system))\n",
    "draw(todot(system))"
   ]
  },
  {
   "cell_type": "code",
   "execution_count": null,
   "metadata": {},
   "outputs": [],
   "source": [
    "top, forest = bdd(system)\n",
    "draw(todot(forest, top))"
   ]
  },
  {
   "cell_type": "markdown",
   "metadata": {},
   "source": [
    "#### Minimal cut set"
   ]
  },
  {
   "cell_type": "code",
   "execution_count": null,
   "metadata": {},
   "outputs": [],
   "source": [
    "ftmcs(system)"
   ]
  },
  {
   "cell_type": "markdown",
   "metadata": {},
   "source": [
    "#### Define failure probabilities for compoments"
   ]
  },
  {
   "cell_type": "code",
   "execution_count": null,
   "metadata": {},
   "outputs": [],
   "source": [
    "params = Dict(\n",
    "    [x[i].var => 0.001 for i = 1:3]...,\n",
    "    [y[i].var => 0.0001 for i = 1:2]...,\n",
    "    z.var => 0.00001\n",
    ")"
   ]
  },
  {
   "cell_type": "markdown",
   "metadata": {},
   "source": [
    "#### Compute the system failure probability"
   ]
  },
  {
   "cell_type": "code",
   "execution_count": null,
   "metadata": {},
   "outputs": [],
   "source": [
    "fteval(system, params)"
   ]
  },
  {
   "cell_type": "markdown",
   "metadata": {},
   "source": [
    "#### Birunbaum importance measure"
   ]
  },
  {
   "cell_type": "code",
   "execution_count": null,
   "metadata": {},
   "outputs": [],
   "source": [
    "# define the derivative for a parameter.\n",
    "dparams_x1 = Dict(x[1].var => 1.0, x[2].var => 0.0, x[3].var => 0.0, y[1].var => 0.0, y[2].var => 0.0, z.var => 0.0)\n",
    "dparams_x2 = Dict(x[1].var => 0.0, x[2].var => 1.0, x[3].var => 0.0, y[1].var => 0.0, y[2].var => 0.0, z.var => 0.0)\n",
    "dparams_x3 = Dict(x[1].var => 0.0, x[2].var => 0.0, x[3].var => 1.0, y[1].var => 0.0, y[2].var => 0.0, z.var => 0.0)\n",
    "dparams_y1 = Dict(x[1].var => 0.0, x[2].var => 0.0, x[3].var => 0.0, y[1].var => 1.0, y[2].var => 0.0, z.var => 0.0)\n",
    "dparams_y2 = Dict(x[1].var => 0.0, x[2].var => 0.0, x[3].var => 0.0, y[1].var => 0.0, y[2].var => 1.0, z.var => 0.0)\n",
    "dparams_z = Dict(x[1].var => 0.0, x[2].var => 0.0, x[3].var => 0.0, y[1].var => 0.0, y[2].var => 0.0, z.var => 1.0)"
   ]
  },
  {
   "cell_type": "code",
   "execution_count": null,
   "metadata": {},
   "outputs": [],
   "source": [
    "# importance for x\n",
    "using Printf\n",
    "@printf(\"%20s %.5f\\n\", x[1].var, fteval(system, params, dparams_x1))\n",
    "@printf(\"%20s %.5f\\n\", x[2].var, fteval(system, params, dparams_x2))\n",
    "@printf(\"%20s %.5f\\n\", x[3].var, fteval(system, params, dparams_x3))\n",
    "@printf(\"%20s %.5f\\n\", y[1].var, fteval(system, params, dparams_y1))\n",
    "@printf(\"%20s %.5f\\n\", y[2].var, fteval(system, params, dparams_y2))\n",
    "@printf(\"%20s %.5f\\n\", z.var, fteval(system, params, dparams_z))"
   ]
  },
  {
   "cell_type": "markdown",
   "metadata": {},
   "source": [
    "### Example 3\n",
    "\n",
    "This example is to present **a wrong case** of Example 2.\n",
    "Generating the redundancy of ftevent should use different objects.\n",
    "Please do not mistake it."
   ]
  },
  {
   "cell_type": "markdown",
   "metadata": {},
   "source": [
    "#### Definition of component failure events"
   ]
  },
  {
   "cell_type": "code",
   "execution_count": null,
   "metadata": {},
   "outputs": [],
   "source": [
    "x = ftevent(\"motor failure\")\n",
    "y = ftevent(\"sensor failure\")\n",
    "z = ftevent(\"battery failure\")"
   ]
  },
  {
   "cell_type": "markdown",
   "metadata": {},
   "source": [
    "#### Definition of fault tree to represent the system failure"
   ]
  },
  {
   "cell_type": "code",
   "execution_count": null,
   "metadata": {},
   "outputs": [],
   "source": [
    "sub = x + z\n",
    "system = ftkofn(2, sub, sub, sub) + (y * y) ## sub and y are not redundant!"
   ]
  },
  {
   "cell_type": "markdown",
   "metadata": {},
   "source": [
    "#### Drawing a brief fault tree."
   ]
  },
  {
   "cell_type": "code",
   "execution_count": null,
   "metadata": {},
   "outputs": [],
   "source": [
    "draw(todot(system))"
   ]
  },
  {
   "cell_type": "code",
   "execution_count": null,
   "metadata": {},
   "outputs": [],
   "source": [
    "top, forest = bdd(system)\n",
    "draw(todot(forest, top))"
   ]
  },
  {
   "cell_type": "markdown",
   "metadata": {},
   "source": [
    "#### Minimal cut set"
   ]
  },
  {
   "cell_type": "code",
   "execution_count": null,
   "metadata": {},
   "outputs": [],
   "source": [
    "ftmcs(system)"
   ]
  },
  {
   "cell_type": "markdown",
   "metadata": {},
   "source": [
    "#### Define failure probabilities for compoments"
   ]
  },
  {
   "cell_type": "code",
   "execution_count": null,
   "metadata": {},
   "outputs": [],
   "source": [
    "params = Dict(\n",
    "    x.var => 0.001,\n",
    "    y.var => 0.0001,\n",
    "    z.var => 0.00001\n",
    ")"
   ]
  },
  {
   "cell_type": "markdown",
   "metadata": {},
   "source": [
    "#### Compute the system failure probability"
   ]
  },
  {
   "cell_type": "code",
   "execution_count": null,
   "metadata": {},
   "outputs": [],
   "source": [
    "fteval(system, params)"
   ]
  },
  {
   "cell_type": "markdown",
   "metadata": {},
   "source": [
    "#### Birunbaum importance measure"
   ]
  },
  {
   "cell_type": "code",
   "execution_count": null,
   "metadata": {},
   "outputs": [],
   "source": [
    "# define the derivative for a parameter.\n",
    "dparams_x = Dict(x.var => 1.0, y.var => 0.0, z.var => 0.0)\n",
    "dparams_y = Dict(x.var => 0.0, y.var => 1.0, z.var => 0.0)\n",
    "dparams_z = Dict(x.var => 0.0, y.var => 0.0, z.var => 1.0)"
   ]
  },
  {
   "cell_type": "code",
   "execution_count": null,
   "metadata": {},
   "outputs": [],
   "source": [
    "# importance for x\n",
    "using Printf\n",
    "@printf(\"%20s %.5f\\n\", x.var, fteval(system, params, dparams_x))\n",
    "@printf(\"%20s %.5f\\n\", y.var, fteval(system, params, dparams_y))\n",
    "@printf(\"%20s %.5f\\n\", z.var, fteval(system, params, dparams_z))"
   ]
  },
  {
   "cell_type": "code",
   "execution_count": null,
   "metadata": {},
   "outputs": [],
   "source": []
  }
 ],
 "metadata": {
  "kernelspec": {
   "display_name": "Julia 1.0.5",
   "language": "julia",
   "name": "julia-1.0"
  },
  "language_info": {
   "file_extension": ".jl",
   "mimetype": "application/julia",
   "name": "julia",
   "version": "1.0.5"
  }
 },
 "nbformat": 4,
 "nbformat_minor": 4
}
