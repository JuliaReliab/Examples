{
 "cells": [
  {
   "cell_type": "markdown",
   "metadata": {},
   "source": [
    "# NMarkov\n",
    "\n",
    "- Numerical computation for continuous-time Markov chain (CTMC)\n",
    "- Partially it can be applied to the analysis of discrete-time Markov chain (DTMC)\n",
    "\n",
    "## Install\n",
    "\n",
    "Use Pkg to install the packages. The packages are located in GitHub. Please run the following commands:\n",
    "\n",
    "- For Julia 1.0.5\n",
    "```julia\n",
    "using Pkg\n",
    "Pkg.add(PackageSpec(url=\"https://github.com/JuliaReliab/Origin.jl.git\"))\n",
    "Pkg.add(PackageSpec(url=\"https://github.com/JuliaReliab/Deformula.jl.git\"))\n",
    "Pkg.add(PackageSpec(url=\"https://github.com/JuliaReliab/SparseMatrix.jl.git\"))\n",
    "Pkg.add(PackageSpec(url=\"https://github.com/JuliaReliab/NMarkov.jl.git\"))\n",
    "```"
   ]
  },
  {
   "cell_type": "code",
   "execution_count": null,
   "metadata": {},
   "outputs": [],
   "source": [
    "using Pkg\n",
    "Pkg.add(PackageSpec(url=\"https://github.com/JuliaReliab/Origin.jl.git\"))\n",
    "Pkg.add(PackageSpec(url=\"https://github.com/JuliaReliab/Deformula.jl.git\"))\n",
    "Pkg.add(PackageSpec(url=\"https://github.com/JuliaReliab/SparseMatrix.jl.git\"))\n",
    "Pkg.add(PackageSpec(url=\"https://github.com/JuliaReliab/NMarkov.jl.git\"))"
   ]
  },
  {
   "cell_type": "markdown",
   "metadata": {},
   "source": [
    "## Initialize\n",
    "\n",
    "Load `NMarkov`. Also I recommend to load `SparseArrays` to handle the matrix of CTMC."
   ]
  },
  {
   "cell_type": "code",
   "execution_count": null,
   "metadata": {},
   "outputs": [],
   "source": [
    "using SparseArrays\n",
    "using NMarkov\n",
    "using Plots"
   ]
  },
  {
   "cell_type": "markdown",
   "metadata": {},
   "source": [
    "## Steady-state analysis"
   ]
  },
  {
   "cell_type": "markdown",
   "metadata": {},
   "source": [
    "### Example1: A dense kernel with GTH algorithm\n",
    "\n",
    "Solve the stationary distribution of the following CTMC\n",
    "\n",
    "- State\n",
    "    - U: System is up\n",
    "    - D: System is down\n",
    "- Transition rates\n",
    "    - U to D: lambda (failure rate)\n",
    "    - D to U: mu (repair rate)"
   ]
  },
  {
   "cell_type": "code",
   "execution_count": null,
   "metadata": {},
   "outputs": [],
   "source": [
    "# parameters\n",
    "lambda = 1/100000\n",
    "mu = 1/10"
   ]
  },
  {
   "cell_type": "code",
   "execution_count": null,
   "metadata": {},
   "outputs": [],
   "source": [
    "# CTMC kernel (Note: diagonal entries are negative)\n",
    "Q = [\n",
    "    -lambda lambda;\n",
    "    mu -mu\n",
    "]"
   ]
  },
  {
   "cell_type": "code",
   "execution_count": null,
   "metadata": {},
   "outputs": [],
   "source": [
    "# solve the stationary vecotor of Q wih GTH algorithm\n",
    "# GTH algorithm is appleid only if Q is a dense matrix\n",
    "gth(Q)"
   ]
  },
  {
   "cell_type": "code",
   "execution_count": null,
   "metadata": {},
   "outputs": [],
   "source": [
    "# error case!\n",
    "gth(sparse(Q))"
   ]
  },
  {
   "cell_type": "markdown",
   "metadata": {},
   "source": [
    "### Example 2: A sparse kernel with Gauss-Seidel (GS) algorithm\n",
    "\n",
    "Solve the stationary distribution of the following CTMC\n",
    "\n",
    "- State\n",
    "    - Sn (n = 0, ..., N): The number of customers in the system is n\n",
    "- Transition rates\n",
    "    - Sn to Sn+1 (n = 0, ..., N-1): lambda (arrival rate)\n",
    "    - Sn to Sn-1 (n = 1, ..., N): mu (service rate)"
   ]
  },
  {
   "cell_type": "code",
   "execution_count": null,
   "metadata": {},
   "outputs": [],
   "source": [
    "# parameters\n",
    "lambda = 1.0\n",
    "mu = 2.0\n",
    "N = 10"
   ]
  },
  {
   "cell_type": "code",
   "execution_count": null,
   "metadata": {},
   "outputs": [],
   "source": [
    "using Origin\n",
    "Q = spzeros(N+1,N+1)\n",
    "@origin (Q => 0) begin # the indicies of Q start from 0\n",
    "    Q[0,0] = -lambda\n",
    "    Q[0,1] = lambda\n",
    "    for i = 1:N-1\n",
    "        Q[i,i+1] = lambda\n",
    "        Q[i,i-1] = mu\n",
    "        Q[i,i] = -(lambda + mu)\n",
    "    end\n",
    "    Q[N,N-1] = mu\n",
    "    Q[N,N] = -mu\n",
    "end\n",
    "Q"
   ]
  },
  {
   "cell_type": "markdown",
   "metadata": {},
   "source": [
    "#### Run GS algorithm\n",
    "\n",
    "- Inputs\n",
    "    - Q: infinitesimal generator\n",
    "- Outputs\n",
    "    - x: the stationary vector such that x * Q = 0\n",
    "    - conv: a bool whether the algorithm is converged or not\n",
    "    - iter: the number of iterations\n",
    "    - rerror: an error when the algorithm stops\n",
    "\n",
    "```julia\n",
    "x, conv, iter, rerror = stgs(Q)\n",
    "```"
   ]
  },
  {
   "cell_type": "code",
   "execution_count": null,
   "metadata": {},
   "outputs": [],
   "source": [
    "x, = stgs(Q)"
   ]
  },
  {
   "cell_type": "code",
   "execution_count": null,
   "metadata": {},
   "outputs": [],
   "source": [
    "# error case\n",
    "stgs(Matrix(Q))"
   ]
  },
  {
   "cell_type": "markdown",
   "metadata": {},
   "source": [
    "#### Run power method\n",
    "\n",
    "- Inputs\n",
    "    - P: uniformed infinitesimal generator; `P, qv = unif(Q)`\n",
    "- Outputs\n",
    "    - x: the stationary vector such that x * Q = 0\n",
    "    - conv: a bool whether the algorithm is converged or not\n",
    "    - iter: the number of iterations\n",
    "    - rerror: an error when the algorithm stops\n",
    "\n",
    "```julia\n",
    "x, conv, iter, rerror = stpower(P)\n",
    "```"
   ]
  },
  {
   "cell_type": "code",
   "execution_count": null,
   "metadata": {},
   "outputs": [],
   "source": [
    "P, qv = unif(Q)\n",
    "x, = stpower(P)"
   ]
  },
  {
   "cell_type": "markdown",
   "metadata": {},
   "source": [
    "### Example 3: Sensitivity of stationary vector\n",
    "\n",
    "Consider the first derivative of stationary distribution of the following CTMC with respect to lambda and mu\n",
    "\n",
    "- State\n",
    "    - Sn (n = 0, ..., N): The number of customers in the system is n\n",
    "- Transition rates\n",
    "    - Sn to Sn+1 (n = 0, ..., N-1): lambda (arrival rate)\n",
    "    - Sn to Sn-1 (n = 1, ..., N): mu (service rate)"
   ]
  },
  {
   "cell_type": "code",
   "execution_count": null,
   "metadata": {},
   "outputs": [],
   "source": [
    "# parameters\n",
    "lambda = 1.0\n",
    "mu = 2.0\n",
    "N = 10\n",
    "\n",
    "# infinitesimal generator\n",
    "using Origin\n",
    "Q = spzeros(N+1,N+1)\n",
    "@origin (Q => 0) begin # the indicies of Q start from 0\n",
    "    Q[0,0] = -lambda\n",
    "    Q[0,1] = lambda\n",
    "    for i = 1:N-1\n",
    "        Q[i,i+1] = lambda\n",
    "        Q[i,i-1] = mu\n",
    "        Q[i,i] = -(lambda + mu)\n",
    "    end\n",
    "    Q[N,N-1] = mu\n",
    "    Q[N,N] = -mu\n",
    "end\n",
    "Q"
   ]
  },
  {
   "cell_type": "code",
   "execution_count": null,
   "metadata": {},
   "outputs": [],
   "source": [
    "# first derivative matrix of dQ/dlambda\n",
    "dQ1 = spzeros(N+1,N+1)\n",
    "@origin (dQ1 => 0) begin\n",
    "    dQ1[0,0] = -1.0\n",
    "    dQ1[0,1] = 1\n",
    "    for i = 1:N-1\n",
    "        dQ1[i,i+1] = 1.0\n",
    "        dQ1[i,i] = -1.0\n",
    "    end\n",
    "end\n",
    "\n",
    "# first derivative matrix of dQ/dmu\n",
    "dQ2 = spzeros(N+1,N+1)\n",
    "@origin (dQ2 => 0) begin\n",
    "    for i = 1:N-1\n",
    "        dQ2[i,i-1] = 1.0\n",
    "        dQ2[i,i] = -1.0\n",
    "    end\n",
    "    dQ2[N,N-1] = 1.0\n",
    "    dQ2[N,N] = -1.0\n",
    "end"
   ]
  },
  {
   "cell_type": "markdown",
   "metadata": {},
   "source": [
    "#### Run GS-type sensitivity algorithm\n",
    "\n",
    "- Inputs\n",
    "    - Q: infinitesimal generator\n",
    "    - pis: stationary vector of Q\n",
    "    - b: sensitivity vector; b = dQ'*pis where dQ is the first derivative of Q\n",
    "- Outputs\n",
    "    - dx: the first derivative of stationary vector\n",
    "    - conv: a bool whether the algorithm is converged or not\n",
    "    - iter: the number of iterations\n",
    "    - rerror: an error when the algorithm stops\n",
    "\n",
    "```julia\n",
    "dx, conv, iter, rerror = stsengs(Q, pis, b)\n",
    "```"
   ]
  },
  {
   "cell_type": "code",
   "execution_count": null,
   "metadata": {},
   "outputs": [],
   "source": [
    "pis, = stgs(Q)\n",
    "dx1, = stsengs(Q, pis, dQ1'*pis)\n",
    "dx2, = stsengs(Q, pis, dQ2'*pis)\n",
    "println(dx1)\n",
    "println(dx2)"
   ]
  },
  {
   "cell_type": "markdown",
   "metadata": {},
   "source": [
    "### Example 4: quasi-stationary vector\n",
    "\n",
    "Consider the quasi-stationary distribution of the following CTMC\n",
    "\n",
    "- State\n",
    "    - Sn (n = 0, ...): The number of customers in the system is n\n",
    "- Transition rates\n",
    "    - Sn to Sn+1 (n = 0, ...): lambda (arrival rate)\n",
    "    - Sn to Sn-1 (n = 1, ...): mu (service rate)\n",
    "- Obtain the probability of the number of customers provided that the number of customers does not exceed N -> quasi-stationary distribution"
   ]
  },
  {
   "cell_type": "code",
   "execution_count": null,
   "metadata": {},
   "outputs": [],
   "source": [
    "# parameters\n",
    "lambda = 1.0\n",
    "mu = 2.0\n",
    "N = 10\n",
    "\n",
    "# infinitesimal generator\n",
    "using Origin\n",
    "Q = spzeros(N+1,N+1)\n",
    "@origin (Q => 0) begin # the indicies of Q start from 0\n",
    "    Q[0,0] = -lambda\n",
    "    Q[0,1] = lambda\n",
    "    for i = 1:N-1\n",
    "        Q[i,i+1] = lambda\n",
    "        Q[i,i-1] = mu\n",
    "        Q[i,i] = -(lambda + mu)\n",
    "    end\n",
    "    Q[N,N-1] = mu\n",
    "    Q[N,N] = -(lambda+mu) ## there exists the transition rate to SN+1\n",
    "end\n",
    "Q"
   ]
  },
  {
   "cell_type": "code",
   "execution_count": null,
   "metadata": {},
   "outputs": [],
   "source": [
    "# exit rate vector that ensures Q*1 + xi*1 = 0\n",
    "xi = zeros(N+1)\n",
    "@origin xi=>0 begin\n",
    "    xi[N]= lambda\n",
    "end\n",
    "xi"
   ]
  },
  {
   "cell_type": "markdown",
   "metadata": {},
   "source": [
    "#### Run GS-type algorithm for quasi-stationary \n",
    "\n",
    "- Inputs\n",
    "    - Q: infinitesimal generator\n",
    "    - xi: the exit vector that ensures Q*1 + xi*1 = 0\n",
    "- Outputs\n",
    "    - x: the quasi-stationary vector such that x * Q = -gam * x\n",
    "    - gam: a constant as an eigenvalue\n",
    "    - conv: a bool whether the algorithm is converged or not\n",
    "    - iter: the number of iterations\n",
    "    - rerror: an error when the algorithm stops\n",
    "\n",
    "```julia\n",
    "x, gam, conv, iter, rerror = qtstgs(Q, xi)\n",
    "```"
   ]
  },
  {
   "cell_type": "code",
   "execution_count": null,
   "metadata": {},
   "outputs": [],
   "source": [
    "x, gam, = qstgs(Q, xi)"
   ]
  },
  {
   "cell_type": "markdown",
   "metadata": {},
   "source": [
    "#### Run power method for quasi-stationary \n",
    "\n",
    "- Inputs\n",
    "    - P: uniformed infinitesimal generator; `P, = unif(Q)`\n",
    "    - xi: the exit vector that ensures Q*1 + xi*1 = 0\n",
    "- Outputs\n",
    "    - x: the quasi-stationary vector such that x * Q = -gam * x\n",
    "    - gam: a constant as an eigenvalue\n",
    "    - conv: a bool whether the algorithm is converged or not\n",
    "    - iter: the number of iterations\n",
    "    - rerror: an error when the algorithm stops\n",
    "\n",
    "```julia\n",
    "x, gam, conv, iter, rerror = qtstpower(P, xi)\n",
    "```"
   ]
  },
  {
   "cell_type": "code",
   "execution_count": null,
   "metadata": {},
   "outputs": [],
   "source": [
    "P, = unif(Q)\n",
    "x, gam, = qstpower(P, xi)"
   ]
  },
  {
   "cell_type": "markdown",
   "metadata": {},
   "source": [
    "## Transient analysis"
   ]
  },
  {
   "cell_type": "markdown",
   "metadata": {},
   "source": [
    "### Example 1\n",
    "\n",
    "Solve the transient solution of the following CTMC\n",
    "\n",
    "- State\n",
    "    - Sn (n = 0, ..., N): The number of customers in the system is n\n",
    "- Transition rates\n",
    "    - Sn to Sn+1 (n = 0, ..., N-1): lambda (arrival rate)\n",
    "    - Sn to Sn-1 (n = 1, ..., N): mu (service rate)\n",
    "- Initial probability vector\n",
    "    - The system is empty at time 0"
   ]
  },
  {
   "cell_type": "code",
   "execution_count": null,
   "metadata": {},
   "outputs": [],
   "source": [
    "# parameters\n",
    "lambda = 1.0\n",
    "mu = 2.0\n",
    "N = 10\n",
    "\n",
    "using Origin\n",
    "Q = spzeros(N+1,N+1)\n",
    "@origin (Q => 0) begin # the indicies of Q start from 0\n",
    "    Q[0,0] = -lambda\n",
    "    Q[0,1] = lambda\n",
    "    for i = 1:N-1\n",
    "        Q[i,i+1] = lambda\n",
    "        Q[i,i-1] = mu\n",
    "        Q[i,i] = -(lambda + mu)\n",
    "    end\n",
    "    Q[N,N-1] = mu\n",
    "    Q[N,N] = -mu\n",
    "end"
   ]
  },
  {
   "cell_type": "code",
   "execution_count": null,
   "metadata": {},
   "outputs": [],
   "source": [
    "# initial probability vector\n",
    "x0 = zeros(N+1)\n",
    "@origin x0=>0 begin\n",
    "    x0[0] = 1.0\n",
    "end\n",
    "x0"
   ]
  },
  {
   "cell_type": "markdown",
   "metadata": {},
   "source": [
    "#### Solve the transient solution\n",
    "\n",
    "Solve the following matrix exponential with uniformization\n",
    "\n",
    "```\n",
    "xt = exp(tr(Q)*t) * x0\n",
    "```\n",
    "\n",
    "where `tr` is an transpose operator.\n",
    "\n",
    "- Inputs\n",
    "    - Q: infinitesimal generator\n",
    "    - x0: initial probability vector\n",
    "    - t: time\n",
    "    - tr: transpose (:T) or not (:N). The default is :N.\n",
    "- Output\n",
    "    - xt: the transient solution; the probability vector at time t\n",
    "\n",
    "```julia\n",
    "xt = mexp(Q, x0, 1.0, transpose=tr)\n",
    "```"
   ]
  },
  {
   "cell_type": "code",
   "execution_count": null,
   "metadata": {},
   "outputs": [],
   "source": [
    "mexp(Q, x0, 1.0, transpose=:T)"
   ]
  },
  {
   "cell_type": "markdown",
   "metadata": {},
   "source": [
    "#### Solve the transient solution\n",
    "\n",
    "Solve the following matrix exponential with uniformization\n",
    "\n",
    "```\n",
    "xt = exp(tr(Q)*t) * x0\n",
    "```\n",
    "\n",
    "where `tr` is an transpose operator.\n",
    "\n",
    "- Inputs\n",
    "    - Q: infinitesimal generator\n",
    "    - x0: initial probability vector\n",
    "    - t: a vector of time sequence\n",
    "    - tr: transpose (:T) or not (:N). The default is :N.\n",
    "- Output\n",
    "    - xt: the transient solution; the probability vector at time t\n",
    "\n",
    "```julia\n",
    "xt = mexp(Q, x0, [0.0, 1.0, 2.0], transpose=tr)\n",
    "```"
   ]
  },
  {
   "cell_type": "code",
   "execution_count": null,
   "metadata": {},
   "outputs": [],
   "source": [
    "t = LinRange(0.0, 10.0, 100)\n",
    "mexp(Q, x0, t, transpose=:T)"
   ]
  },
  {
   "cell_type": "markdown",
   "metadata": {},
   "source": [
    "#### Solve the transient solution\n",
    "\n",
    "Solve the following matrix exponential with uniformization\n",
    "\n",
    "```\n",
    "xt = exp(Q*t) * x0\n",
    "cxt = int_0^t exp(Q*u) du * x0\n",
    "```\n",
    "\n",
    "- Inputs\n",
    "    - Q: infinitesimal generator\n",
    "    - x0: initial probability vector\n",
    "    - t: a vector of time sequence\n",
    "    - tr: transpose (:T) or not (:N). The default is :N.\n",
    "- Output\n",
    "    - xt: the transient solution; the probability vector at time t\n",
    "    - cxt: value of integration\n",
    "\n",
    "```julia\n",
    "xt,cxt = mexpc(Q, x0, 1.0, )\n",
    "```"
   ]
  },
  {
   "cell_type": "code",
   "execution_count": null,
   "metadata": {},
   "outputs": [],
   "source": [
    "xt,cxt = mexpc(Q, x0, 1.0, transpose=:T)"
   ]
  },
  {
   "cell_type": "code",
   "execution_count": null,
   "metadata": {},
   "outputs": [],
   "source": [
    "t = LinRange(0.0, 10.0, 100)\n",
    "xt,cxt = mexpc(Q, x0, t, transpose=:T)"
   ]
  },
  {
   "cell_type": "markdown",
   "metadata": {},
   "source": [
    "#### Solve the transient solution\n",
    "\n",
    "Solve the expected rewards for a time sequence\n",
    "\n",
    "```\n",
    "instantaneous reward: x * exp(Q*t) * r for t = ts\n",
    "cumulative reward: x * int_0^t exp(Q*u) du * r for t = ts\n",
    "```\n",
    "\n",
    "- Inputs\n",
    "    - Q: infinitesimal generator\n",
    "    - x: initial probability vector\n",
    "    - r: reward vector\n",
    "    - ts: a vector of time sequence\n",
    "    - forward: coputation with forward (:T) or backward (:N). The default is :T\n",
    "- Output\n",
    "    - irwd: instantaneous reward\n",
    "    - crwd: cumulative reward\n",
    "    - x: probability vector at ts[end] (forward) or ts[end] (backward)\n",
    "    - cx: cumulative probability vector at ts[end] (forward) or ts[end] (backward)\n",
    "\n",
    "```julia\n",
    "irwd, crwd, x, cx = tran(Q, x, r, [0.0, 1.0, 2.0], forward=:T)\n",
    "```"
   ]
  },
  {
   "cell_type": "code",
   "execution_count": null,
   "metadata": {},
   "outputs": [],
   "source": [
    "# reward: expected number of cumtomers\n",
    "@origin r1=>0 begin\n",
    "    r1 = Float64[i for i = 0:N]\n",
    "end"
   ]
  },
  {
   "cell_type": "code",
   "execution_count": null,
   "metadata": {},
   "outputs": [],
   "source": [
    "ts = LinRange(0.0, 50.0, 100)\n",
    "irwd, crwd, xt, cxt = tran(Q, x0, r1, ts, forward=:T)"
   ]
  },
  {
   "cell_type": "code",
   "execution_count": null,
   "metadata": {},
   "outputs": [],
   "source": [
    "plot(ts, irwd)"
   ]
  },
  {
   "cell_type": "code",
   "execution_count": null,
   "metadata": {},
   "outputs": [],
   "source": [
    "# reward: expected number of lost cumtomers\n",
    "r2 = zeros(Float64, N+1)\n",
    "@origin r2=>0 begin\n",
    "    r2[N] = lambda\n",
    "end"
   ]
  },
  {
   "cell_type": "code",
   "execution_count": null,
   "metadata": {},
   "outputs": [],
   "source": [
    "irwd, crwd, xt, cxt = tran(Q, x0, r2, ts, forward=:T)\n",
    "plot(ts, [r/t for (t,r) = zip(ts,crwd)])"
   ]
  },
  {
   "cell_type": "code",
   "execution_count": null,
   "metadata": {},
   "outputs": [],
   "source": []
  }
 ],
 "metadata": {
  "kernelspec": {
   "display_name": "Julia 1.0.5",
   "language": "julia",
   "name": "julia-1.0"
  },
  "language_info": {
   "file_extension": ".jl",
   "mimetype": "application/julia",
   "name": "julia",
   "version": "1.0.5"
  }
 },
 "nbformat": 4,
 "nbformat_minor": 4
}
