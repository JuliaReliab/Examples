{
 "cells": [
  {
   "cell_type": "markdown",
   "metadata": {},
   "source": [
    "# Install"
   ]
  },
  {
   "cell_type": "code",
   "execution_count": null,
   "metadata": {
    "tags": []
   },
   "outputs": [],
   "source": [
    "using Pkg\n",
    "Pkg.add(PackageSpec(url=\"https://github.com/JuliaReliab/Origin.jl.git\"))\n",
    "Pkg.add(PackageSpec(url=\"https://github.com/JuliaReliab/Deformula.jl.git\"))\n",
    "Pkg.add(PackageSpec(url=\"https://github.com/JuliaReliab/SparseMatrix.jl.git\"))\n",
    "Pkg.add(PackageSpec(url=\"https://github.com/JuliaReliab/NMarkov.jl.git\"))\n",
    "Pkg.add(PackageSpec(url=\"https://github.com/JuliaReliab/DD.jl.git\"))\n",
    "Pkg.add(PackageSpec(url=\"https://github.com/JuliaReliab/FaultTree.jl.git\"))\n",
    "Pkg.add(PackageSpec(url=\"https://github.com/JuliaReliab/JuliaDot.jl.git\"))"
   ]
  },
  {
   "cell_type": "markdown",
   "metadata": {},
   "source": [
    "# Install Graphviz"
   ]
  },
  {
   "cell_type": "code",
   "execution_count": null,
   "metadata": {
    "tags": []
   },
   "outputs": [],
   "source": [
    ";sudo apt-get update -y"
   ]
  },
  {
   "cell_type": "code",
   "execution_count": null,
   "metadata": {
    "tags": []
   },
   "outputs": [],
   "source": [
    ";sudo apt-get install -y graphviz"
   ]
  },
  {
   "cell_type": "markdown",
   "metadata": {},
   "source": [
    "# Install for gospn\n",
    "\n",
    "- The repository: [https://github.com/JuliaReliab/gospn](https://github.com/JuliaReliab/gospn)\n",
    "- Build with Go or download a binary directly from [https://github.com/JuliaReliab/gospn/releases/latest](https://github.com/JuliaReliab/gospn/releases/latest)\n",
    "- Put the binary `gospn` to the directory"
   ]
  },
  {
   "cell_type": "code",
   "execution_count": null,
   "metadata": {},
   "outputs": [],
   "source": [
    ";wget https://github.com/JuliaReliab/gospn/releases/download/v0.10.2/gospn-0.10.2-linux-amd64.tar.gz"
   ]
  },
  {
   "cell_type": "code",
   "execution_count": null,
   "metadata": {},
   "outputs": [],
   "source": [
    ";tar zxvf gospn-0.10.2-linux-amd64.tar.gz"
   ]
  },
  {
   "cell_type": "markdown",
   "metadata": {
    "tags": []
   },
   "source": [
    "# Install Others"
   ]
  },
  {
   "cell_type": "code",
   "execution_count": null,
   "metadata": {},
   "outputs": [],
   "source": [
    "# require the following packages.\n",
    "# Install them with the package mode.\n",
    "\n",
    "using Pkg\n",
    "Pkg.add(\"MAT\")\n",
    "Pkg.add(\"JSON\")\n",
    "Pkg.add(\"Plots\")\n",
    "Pkg.add(\"SparseArrays\")\n",
    "Pkg.add(\"Distributions\")"
   ]
  }
 ],
 "metadata": {
  "kernelspec": {
   "display_name": "Julia 1.8.5",
   "language": "julia",
   "name": "julia-1.8"
  },
  "language_info": {
   "file_extension": ".jl",
   "mimetype": "application/julia",
   "name": "julia",
   "version": "1.8.5"
  }
 },
 "nbformat": 4,
 "nbformat_minor": 4
}
