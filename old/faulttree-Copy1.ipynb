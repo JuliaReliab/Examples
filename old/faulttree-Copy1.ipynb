{
 "cells": [
  {
   "cell_type": "markdown",
   "metadata": {},
   "source": [
    "# FaultTree"
   ]
  },
  {
   "cell_type": "markdown",
   "metadata": {},
   "source": [
    "## Install\n",
    "\n",
    "Use Pkg to install the packages. The packages are located in GitHub. Please run the following commands:\n",
    "\n",
    "- For Julia 1.0.5\n",
    "```julia\n",
    "using Pkg\n",
    "Pkg.add(PackageSpec(url=\"https://github.com/JuliaReliab/DD.jl.git\"))\n",
    "Pkg.add(PackageSpec(url=\"https://github.com/JuliaReliab/FaultTree.jl.git\"))\n",
    "Pkg.add(PackageSpec(url=\"https://github.com/JuliaReliab/JuliaDot.jl.git\"))\n",
    "```"
   ]
  },
  {
   "cell_type": "code",
   "execution_count": null,
   "metadata": {},
   "outputs": [],
   "source": [
    "using Pkg\n",
    "Pkg.add(PackageSpec(url=\"https://github.com/JuliaReliab/SymbolicDiff.jl\"))\n",
    "Pkg.add(PackageSpec(url=\"https://github.com/JuliaReliab/DD.jl.git\"))\n",
    "Pkg.add(PackageSpec(url=\"https://github.com/JuliaReliab/FaultTree.jl.git\"))\n",
    "Pkg.add(PackageSpec(url=\"https://github.com/JuliaReliab/JuliaDot.jl.git\"))"
   ]
  },
  {
   "cell_type": "markdown",
   "metadata": {},
   "source": [
    "## Initialize\n",
    "\n",
    "Load `FaultTree` and `JuliaDot`. `JuliaDot` provides drawing a graph of fault trees and BDD, but the package `JuliaDot` depends on your own environment. If the loding `JuliaDot` fails, please remove (comment out) loading `JuliaDot`"
   ]
  },
  {
   "cell_type": "code",
   "execution_count": 1,
   "metadata": {},
   "outputs": [],
   "source": [
    "using FaultTree\n",
    "using JuliaDot"
   ]
  },
  {
   "cell_type": "markdown",
   "metadata": {},
   "source": [
    "### Example 1"
   ]
  },
  {
   "cell_type": "markdown",
   "metadata": {},
   "source": [
    "#### Definition of FT model"
   ]
  },
  {
   "cell_type": "code",
   "execution_count": 58,
   "metadata": {},
   "outputs": [
    {
     "data": {
      "text/plain": [
       "ft (generic function with 2 methods)"
      ]
     },
     "execution_count": 58,
     "metadata": {},
     "output_type": "execute_result"
    }
   ],
   "source": [
    "@ftree ft(ra, rb, rc) begin\n",
    "    @basic begin # define basic events\n",
    "        x = ra\n",
    "        y = rb\n",
    "        z = rc\n",
    "    end\n",
    "    system = x & y & z\n",
    "end"
   ]
  },
  {
   "cell_type": "markdown",
   "metadata": {},
   "source": [
    "#### instantinate a FT model"
   ]
  },
  {
   "cell_type": "code",
   "execution_count": 59,
   "metadata": {},
   "outputs": [
    {
     "data": {
      "text/plain": [
       "\"node6\""
      ]
     },
     "execution_count": 59,
     "metadata": {},
     "output_type": "execute_result"
    }
   ],
   "source": [
    "system = ft(0.9999, 0.9999, 0.9999) # assign reliability probabilities as 0.9999"
   ]
  },
  {
   "cell_type": "markdown",
   "metadata": {},
   "source": [
    "#### Minimal path (cut) set"
   ]
  },
  {
   "cell_type": "code",
   "execution_count": 60,
   "metadata": {},
   "outputs": [
    {
     "data": {
      "text/plain": [
       "1-element Vector{Vector{FaultTree.AbstractFTEvent}}:\n",
       " [:x, :y, :z]"
      ]
     },
     "execution_count": 60,
     "metadata": {},
     "output_type": "execute_result"
    }
   ],
   "source": [
    "mcs(system)"
   ]
  },
  {
   "cell_type": "markdown",
   "metadata": {},
   "source": [
    "#### Eval top event (system reliability)"
   ]
  },
  {
   "cell_type": "code",
   "execution_count": 48,
   "metadata": {},
   "outputs": [
    {
     "data": {
      "text/plain": [
       "0.9997000299990001"
      ]
     },
     "execution_count": 48,
     "metadata": {},
     "output_type": "execute_result"
    }
   ],
   "source": [
    "prob(system)"
   ]
  },
  {
   "cell_type": "markdown",
   "metadata": {},
   "source": [
    "### Example 2"
   ]
  },
  {
   "cell_type": "code",
   "execution_count": 49,
   "metadata": {},
   "outputs": [],
   "source": [
    "using SymbolicDiff"
   ]
  },
  {
   "cell_type": "markdown",
   "metadata": {},
   "source": [
    "#### Definition of FT model"
   ]
  },
  {
   "cell_type": "code",
   "execution_count": 61,
   "metadata": {},
   "outputs": [
    {
     "data": {
      "text/plain": [
       "ft (generic function with 2 methods)"
      ]
     },
     "execution_count": 61,
     "metadata": {},
     "output_type": "execute_result"
    }
   ],
   "source": [
    "@ftree ft(ra, rb, rc) begin\n",
    "    @basic begin # define basic events\n",
    "        x = ra\n",
    "        y = rb\n",
    "        z = rc\n",
    "    end\n",
    "    system = x & y & z\n",
    "end"
   ]
  },
  {
   "cell_type": "markdown",
   "metadata": {},
   "source": [
    "#### instantinate a FT model with symbolic parameters"
   ]
  },
  {
   "cell_type": "code",
   "execution_count": 81,
   "metadata": {},
   "outputs": [
    {
     "data": {
      "text/plain": [
       "\"node6\""
      ]
     },
     "execution_count": 81,
     "metadata": {},
     "output_type": "execute_result"
    }
   ],
   "source": [
    "@vars begin\n",
    "    t\n",
    "    lama\n",
    "    lamb\n",
    "    lamc\n",
    "end\n",
    "system = ft(exp(-lama*t), exp(-lamb*t), exp(-lamc*t))"
   ]
  },
  {
   "cell_type": "markdown",
   "metadata": {},
   "source": [
    "#### Set parameters"
   ]
  },
  {
   "cell_type": "code",
   "execution_count": 97,
   "metadata": {},
   "outputs": [
    {
     "data": {
      "text/plain": [
       "50.0"
      ]
     },
     "execution_count": 97,
     "metadata": {},
     "output_type": "execute_result"
    }
   ],
   "source": [
    "env = SymbolicEnv()\n",
    "env[lama] = 2.0833e-6\n",
    "env[lamb] = 1.8182e-6\n",
    "env[lamc] = 1.4285e-6\n",
    "env[t] = 50.0"
   ]
  },
  {
   "cell_type": "markdown",
   "metadata": {},
   "source": [
    "#### Eval top event"
   ]
  },
  {
   "cell_type": "code",
   "execution_count": 98,
   "metadata": {},
   "outputs": [
    {
     "data": {
      "text/plain": [
       "0.9997335355079707"
      ]
     },
     "execution_count": 98,
     "metadata": {},
     "output_type": "execute_result"
    }
   ],
   "source": [
    "seval(prob(system), env)"
   ]
  },
  {
   "cell_type": "markdown",
   "metadata": {},
   "source": [
    "#### Birunbaum importance measure (the first derivative of top event prob with respect to failure probability)"
   ]
  },
  {
   "cell_type": "code",
   "execution_count": 99,
   "metadata": {},
   "outputs": [
    {
     "data": {
      "text/plain": [
       "0.9998376781756133"
      ]
     },
     "execution_count": 99,
     "metadata": {},
     "output_type": "execute_result"
    }
   ],
   "source": [
    "seval(prob(system), :lama, env) / seval(exp(-lama*t), :lama, env)"
   ]
  },
  {
   "cell_type": "code",
   "execution_count": 100,
   "metadata": {},
   "outputs": [
    {
     "data": {
      "text/plain": [
       "0.9998244254150219"
      ]
     },
     "execution_count": 100,
     "metadata": {},
     "output_type": "execute_result"
    }
   ],
   "source": [
    "seval(prob(system), :lamb, env) / seval(exp(-lamb*t), :lamb, env)"
   ]
  },
  {
   "cell_type": "code",
   "execution_count": 101,
   "metadata": {},
   "outputs": [
    {
     "data": {
      "text/plain": [
       "0.9998049440258907"
      ]
     },
     "execution_count": 101,
     "metadata": {},
     "output_type": "execute_result"
    }
   ],
   "source": [
    "seval(prob(system), :lamc, env) / seval(exp(-lamc*t), :lamc, env)"
   ]
  },
  {
   "cell_type": "markdown",
   "metadata": {},
   "source": [
    "#### Birunbaum importance measure"
   ]
  },
  {
   "cell_type": "code",
   "execution_count": 107,
   "metadata": {},
   "outputs": [],
   "source": [
    "@vars begin\n",
    "    zero\n",
    "    one\n",
    "end\n",
    "\n",
    "env[zero] = 0.0\n",
    "env[one] = 1.0\n",
    "\n",
    "b1 = prob(ft(one, exp(-lamb*t), exp(-lamc*t))) - prob(ft(zero, exp(-lamb*t), exp(-lamc*t)));\n",
    "b2 = prob(ft(exp(-lama*t), one, exp(-lamc*t))) - prob(ft(exp(-lama*t), zero, exp(-lamc*t)));\n",
    "b3 = prob(ft(exp(-lama*t), exp(-lamb*t), one)) - prob(ft(exp(-lama*t), exp(-lamb*t), zero));\n",
    "\n",
    "# criticality\n",
    "c1 = b1 * exp(-lama*t) / prob(system);\n",
    "c2 = b2 * exp(-lamb*t) / prob(system);\n",
    "c3 = b3 * exp(-lamc*t) / prob(system);"
   ]
  },
  {
   "cell_type": "code",
   "execution_count": 103,
   "metadata": {},
   "outputs": [
    {
     "data": {
      "text/plain": [
       "0.9998376781756132"
      ]
     },
     "execution_count": 103,
     "metadata": {},
     "output_type": "execute_result"
    }
   ],
   "source": [
    "seval(b1, env)"
   ]
  },
  {
   "cell_type": "code",
   "execution_count": 104,
   "metadata": {},
   "outputs": [
    {
     "data": {
      "text/plain": [
       "0.9998244254150218"
      ]
     },
     "execution_count": 104,
     "metadata": {},
     "output_type": "execute_result"
    }
   ],
   "source": [
    "seval(b2, env)"
   ]
  },
  {
   "cell_type": "code",
   "execution_count": 105,
   "metadata": {},
   "outputs": [
    {
     "data": {
      "text/plain": [
       "0.9998049440258907"
      ]
     },
     "execution_count": 105,
     "metadata": {},
     "output_type": "execute_result"
    }
   ],
   "source": [
    "seval(b3, env)"
   ]
  },
  {
   "cell_type": "markdown",
   "metadata": {},
   "source": [
    "#### Epstemic uncertainty propagation"
   ]
  },
  {
   "cell_type": "code",
   "execution_count": 130,
   "metadata": {},
   "outputs": [],
   "source": [
    "using Random\n",
    "using Distributions"
   ]
  },
  {
   "cell_type": "code",
   "execution_count": 162,
   "metadata": {},
   "outputs": [
    {
     "data": {
      "text/plain": [
       "3×3 Matrix{Float64}:\n",
       " 1.35945e-11  0.0          0.0\n",
       " 0.0          1.90064e-13  0.0\n",
       " 0.0          0.0          3.87879e-13"
      ]
     },
     "execution_count": 162,
     "metadata": {},
     "output_type": "execute_result"
    }
   ],
   "source": [
    "varcov = zeros(3,3)\n",
    "n = 2\n",
    "for (i,lam) = enumerate([lama, lamb, lamc])\n",
    "    x = rand(Exponential(1/seval(lam, env)), n)\n",
    "    e, s = mean(Gamma(n, 1/sum(x))), var(Gamma(n, 1/sum(x)))\n",
    "    varcov[i,i] = s\n",
    "end\n",
    "varcov"
   ]
  },
  {
   "cell_type": "code",
   "execution_count": 163,
   "metadata": {},
   "outputs": [],
   "source": [
    "exv = []\n",
    "sv = []\n",
    "for b = [b1, b2, b3]\n",
    "    v1 = [seval(b, x, env) for x = [:lama, :lamb, :lamc]] # first derivative of BI_1\n",
    "    v2 = [seval(b, (x,y), env) for x = [:lama, :lamb, :lamc], y=[:lama, :lamb, :lamc]] # second derivative of BI_1\n",
    "    ex = seval(b, env) + sum(varcov .* v2)/2\n",
    "    ex2 = seval(b, env)^2 + sum([(v1[i]^2 + seval(b,env) * v2[i,i]) * varcov[i,i] for (i,x) = enumerate([:lama, :lamb, :lamc])])\n",
    "    push!(exv, ex)\n",
    "    push!(sv, ex2 - ex^2)\n",
    "end"
   ]
  },
  {
   "cell_type": "code",
   "execution_count": 164,
   "metadata": {},
   "outputs": [
    {
     "data": {
      "text/plain": [
       "3-element Vector{Any}:\n",
       " 0.9998376788979247\n",
       " 0.9998244428899434\n",
       " 0.9998049612532516"
      ]
     },
     "execution_count": 164,
     "metadata": {},
     "output_type": "execute_result"
    }
   ],
   "source": [
    "exv"
   ]
  },
  {
   "cell_type": "code",
   "execution_count": 165,
   "metadata": {},
   "outputs": [
    {
     "data": {
      "text/plain": [
       "3-element Vector{Any}:\n",
       " 1.44438849769557e-9\n",
       " 3.494370648393641e-8\n",
       " 3.444800067420317e-8"
      ]
     },
     "execution_count": 165,
     "metadata": {},
     "output_type": "execute_result"
    }
   ],
   "source": [
    "sv"
   ]
  },
  {
   "cell_type": "code",
   "execution_count": 110,
   "metadata": {},
   "outputs": [
    {
     "data": {
      "text/plain": [
       "1.0"
      ]
     },
     "execution_count": 110,
     "metadata": {},
     "output_type": "execute_result"
    }
   ],
   "source": [
    "seval(c3, env)"
   ]
  },
  {
   "cell_type": "code",
   "execution_count": 78,
   "metadata": {},
   "outputs": [
    {
     "data": {
      "text/plain": [
       "-1.422601156349325e-14"
      ]
     },
     "execution_count": 78,
     "metadata": {},
     "output_type": "execute_result"
    }
   ],
   "source": [
    "seval(c1, :lama, env)"
   ]
  },
  {
   "cell_type": "markdown",
   "metadata": {},
   "source": [
    "### Example 2"
   ]
  },
  {
   "cell_type": "markdown",
   "metadata": {},
   "source": [
    "#### Definition of component failure events"
   ]
  },
  {
   "cell_type": "code",
   "execution_count": null,
   "metadata": {},
   "outputs": [],
   "source": [
    "# x = [ftevent(\"motor failure \", i) for i = [\"arm1\", \"arm2\", \"arm3\"]]\n",
    "# y = [ftevent(\"sensor failure \", i) for i = [\"left\", \"right\"]]\n",
    "# z = ftevent(\"battery failure\")\n",
    "@ftree ft(motor_failure, sensor_failure, battery_failure) begin\n",
    "    @basic begin # define basic events\n",
    "        for i = 1:3\n",
    "            \n",
    "        y = sensor_failure\n",
    "        z = battery_failure\n",
    "    end\n",
    "    system = x | y | z\n",
    "end"
   ]
  },
  {
   "cell_type": "markdown",
   "metadata": {},
   "source": [
    "#### Definition of fault tree to represent the system failure"
   ]
  },
  {
   "cell_type": "code",
   "execution_count": null,
   "metadata": {},
   "outputs": [],
   "source": [
    "sub = [x[i] + z for i = 1:3]\n",
    "system = ftkofn(2, sub[1], sub[2], sub[3]) + (y[1] * y[2])"
   ]
  },
  {
   "cell_type": "markdown",
   "metadata": {},
   "source": [
    "#### Drawing a brief fault tree."
   ]
  },
  {
   "cell_type": "code",
   "execution_count": null,
   "metadata": {},
   "outputs": [],
   "source": [
    "## println(todot(system))\n",
    "draw(todot(system))"
   ]
  },
  {
   "cell_type": "code",
   "execution_count": null,
   "metadata": {},
   "outputs": [],
   "source": [
    "top, forest = bdd(system)\n",
    "draw(todot(forest, top))"
   ]
  },
  {
   "cell_type": "markdown",
   "metadata": {},
   "source": [
    "#### Minimal cut set"
   ]
  },
  {
   "cell_type": "code",
   "execution_count": null,
   "metadata": {},
   "outputs": [],
   "source": [
    "ftmcs(system)"
   ]
  },
  {
   "cell_type": "markdown",
   "metadata": {},
   "source": [
    "#### Define failure probabilities for compoments"
   ]
  },
  {
   "cell_type": "code",
   "execution_count": null,
   "metadata": {},
   "outputs": [],
   "source": [
    "params = Dict(\n",
    "    [x[i].var => 0.001 for i = 1:3]...,\n",
    "    [y[i].var => 0.0001 for i = 1:2]...,\n",
    "    z.var => 0.00001\n",
    ")"
   ]
  },
  {
   "cell_type": "markdown",
   "metadata": {},
   "source": [
    "#### Compute the system failure probability"
   ]
  },
  {
   "cell_type": "code",
   "execution_count": null,
   "metadata": {},
   "outputs": [],
   "source": [
    "fteval(system, params)"
   ]
  },
  {
   "cell_type": "markdown",
   "metadata": {},
   "source": [
    "#### Birunbaum importance measure"
   ]
  },
  {
   "cell_type": "code",
   "execution_count": null,
   "metadata": {},
   "outputs": [],
   "source": [
    "# define the derivative for a parameter.\n",
    "dparams_x1 = Dict(x[1].var => 1.0, x[2].var => 0.0, x[3].var => 0.0, y[1].var => 0.0, y[2].var => 0.0, z.var => 0.0)\n",
    "dparams_x2 = Dict(x[1].var => 0.0, x[2].var => 1.0, x[3].var => 0.0, y[1].var => 0.0, y[2].var => 0.0, z.var => 0.0)\n",
    "dparams_x3 = Dict(x[1].var => 0.0, x[2].var => 0.0, x[3].var => 1.0, y[1].var => 0.0, y[2].var => 0.0, z.var => 0.0)\n",
    "dparams_y1 = Dict(x[1].var => 0.0, x[2].var => 0.0, x[3].var => 0.0, y[1].var => 1.0, y[2].var => 0.0, z.var => 0.0)\n",
    "dparams_y2 = Dict(x[1].var => 0.0, x[2].var => 0.0, x[3].var => 0.0, y[1].var => 0.0, y[2].var => 1.0, z.var => 0.0)\n",
    "dparams_z = Dict(x[1].var => 0.0, x[2].var => 0.0, x[3].var => 0.0, y[1].var => 0.0, y[2].var => 0.0, z.var => 1.0)"
   ]
  },
  {
   "cell_type": "code",
   "execution_count": null,
   "metadata": {},
   "outputs": [],
   "source": [
    "# importance for x\n",
    "using Printf\n",
    "@printf(\"%20s %.5f\\n\", x[1].var, fteval(system, params, dparams_x1))\n",
    "@printf(\"%20s %.5f\\n\", x[2].var, fteval(system, params, dparams_x2))\n",
    "@printf(\"%20s %.5f\\n\", x[3].var, fteval(system, params, dparams_x3))\n",
    "@printf(\"%20s %.5f\\n\", y[1].var, fteval(system, params, dparams_y1))\n",
    "@printf(\"%20s %.5f\\n\", y[2].var, fteval(system, params, dparams_y2))\n",
    "@printf(\"%20s %.5f\\n\", z.var, fteval(system, params, dparams_z))"
   ]
  },
  {
   "cell_type": "markdown",
   "metadata": {},
   "source": [
    "### Example 3\n",
    "\n",
    "This example is to present **a wrong case** of Example 2.\n",
    "Generating the redundancy of ftevent should use different objects.\n",
    "Please do not mistake it."
   ]
  },
  {
   "cell_type": "markdown",
   "metadata": {},
   "source": [
    "#### Definition of component failure events"
   ]
  },
  {
   "cell_type": "code",
   "execution_count": null,
   "metadata": {},
   "outputs": [],
   "source": [
    "x = ftevent(\"motor failure\")\n",
    "y = ftevent(\"sensor failure\")\n",
    "z = ftevent(\"battery failure\")"
   ]
  },
  {
   "cell_type": "markdown",
   "metadata": {},
   "source": [
    "#### Definition of fault tree to represent the system failure"
   ]
  },
  {
   "cell_type": "code",
   "execution_count": null,
   "metadata": {},
   "outputs": [],
   "source": [
    "sub = x + z\n",
    "system = ftkofn(2, sub, sub, sub) + (y * y) ## sub and y are not redundant!"
   ]
  },
  {
   "cell_type": "markdown",
   "metadata": {},
   "source": [
    "#### Drawing a brief fault tree."
   ]
  },
  {
   "cell_type": "code",
   "execution_count": null,
   "metadata": {},
   "outputs": [],
   "source": [
    "draw(todot(system))"
   ]
  },
  {
   "cell_type": "code",
   "execution_count": null,
   "metadata": {},
   "outputs": [],
   "source": [
    "top, forest = bdd(system)\n",
    "draw(todot(forest, top))"
   ]
  },
  {
   "cell_type": "markdown",
   "metadata": {},
   "source": [
    "#### Minimal cut set"
   ]
  },
  {
   "cell_type": "code",
   "execution_count": null,
   "metadata": {},
   "outputs": [],
   "source": [
    "ftmcs(system)"
   ]
  },
  {
   "cell_type": "markdown",
   "metadata": {},
   "source": [
    "#### Define failure probabilities for compoments"
   ]
  },
  {
   "cell_type": "code",
   "execution_count": null,
   "metadata": {},
   "outputs": [],
   "source": [
    "params = Dict(\n",
    "    x.var => 0.001,\n",
    "    y.var => 0.0001,\n",
    "    z.var => 0.00001\n",
    ")"
   ]
  },
  {
   "cell_type": "markdown",
   "metadata": {},
   "source": [
    "#### Compute the system failure probability"
   ]
  },
  {
   "cell_type": "code",
   "execution_count": null,
   "metadata": {},
   "outputs": [],
   "source": [
    "fteval(system, params)"
   ]
  },
  {
   "cell_type": "markdown",
   "metadata": {},
   "source": [
    "#### Birunbaum importance measure"
   ]
  },
  {
   "cell_type": "code",
   "execution_count": null,
   "metadata": {},
   "outputs": [],
   "source": [
    "# define the derivative for a parameter.\n",
    "dparams_x = Dict(x.var => 1.0, y.var => 0.0, z.var => 0.0)\n",
    "dparams_y = Dict(x.var => 0.0, y.var => 1.0, z.var => 0.0)\n",
    "dparams_z = Dict(x.var => 0.0, y.var => 0.0, z.var => 1.0)"
   ]
  },
  {
   "cell_type": "code",
   "execution_count": null,
   "metadata": {},
   "outputs": [],
   "source": [
    "# importance for x\n",
    "using Printf\n",
    "@printf(\"%20s %.5f\\n\", x.var, fteval(system, params, dparams_x))\n",
    "@printf(\"%20s %.5f\\n\", y.var, fteval(system, params, dparams_y))\n",
    "@printf(\"%20s %.5f\\n\", z.var, fteval(system, params, dparams_z))"
   ]
  },
  {
   "cell_type": "code",
   "execution_count": null,
   "metadata": {},
   "outputs": [],
   "source": []
  }
 ],
 "metadata": {
  "kernelspec": {
   "display_name": "Julia 1.6.2",
   "language": "julia",
   "name": "julia-1.6"
  },
  "language_info": {
   "file_extension": ".jl",
   "mimetype": "application/julia",
   "name": "julia",
   "version": "1.6.2"
  }
 },
 "nbformat": 4,
 "nbformat_minor": 4
}
