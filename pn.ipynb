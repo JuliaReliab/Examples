{
 "cells": [
  {
   "cell_type": "markdown",
   "metadata": {},
   "source": [
    "# Stocastic Petri Net Analysis\n",
    "\n",
    "- Evaluation for a stochastic model described by SPN/GSPN/MRSPN\n",
    "- The tool `gospn` creates a marking graph (CTMC transition matrices)\n",
    "- NMarkov uses the CTMC"
   ]
  },
  {
   "cell_type": "markdown",
   "metadata": {},
   "source": [
    "## Install for gospn\n",
    "\n",
    "- The repository: [https://github.com/JuliaReliab/gospn](https://github.com/JuliaReliab/gospn)\n",
    "- Build with Go or download a binary directly from [https://github.com/JuliaReliab/gospn/releases/latest](https://github.com/JuliaReliab/gospn/releases/latest)\n",
    "- Put the binary `gospn` to the directory"
   ]
  },
  {
   "cell_type": "code",
   "execution_count": null,
   "metadata": {
    "tags": []
   },
   "outputs": [],
   "source": [
    ";wget https://github.com/JuliaReliab/gospn/releases/download/v0.10.2/gospn-0.10.2-linux-amd64.tar.gz"
   ]
  },
  {
   "cell_type": "code",
   "execution_count": null,
   "metadata": {
    "tags": []
   },
   "outputs": [],
   "source": [
    ";tar zxvf gospn-0.10.2-linux-amd64.tar.gz"
   ]
  },
  {
   "cell_type": "markdown",
   "metadata": {},
   "source": [
    "## Install for NMarkov\n",
    "\n",
    "https://github.com/JuliaReliab/NMarkov.jl"
   ]
  },
  {
   "cell_type": "code",
   "execution_count": null,
   "metadata": {
    "tags": []
   },
   "outputs": [],
   "source": [
    "using Pkg\n",
    "Pkg.add(PackageSpec(url=\"https://github.com/JuliaReliab/Origin.jl.git\"))\n",
    "Pkg.add(PackageSpec(url=\"https://github.com/JuliaReliab/Deformula.jl.git\"))\n",
    "Pkg.add(PackageSpec(url=\"https://github.com/JuliaReliab/SparseMatrix.jl.git\"))\n",
    "Pkg.add(PackageSpec(url=\"https://github.com/JuliaReliab/NMarkov.jl.git\"))"
   ]
  },
  {
   "cell_type": "markdown",
   "metadata": {
    "tags": []
   },
   "source": [
    "## Install Graphviz"
   ]
  },
  {
   "cell_type": "code",
   "execution_count": null,
   "metadata": {
    "tags": []
   },
   "outputs": [],
   "source": [
    ";sudo apt-get update -y"
   ]
  },
  {
   "cell_type": "code",
   "execution_count": null,
   "metadata": {
    "tags": []
   },
   "outputs": [],
   "source": [
    ";sudo apt-get install -y graphviz"
   ]
  },
  {
   "cell_type": "code",
   "execution_count": null,
   "metadata": {
    "tags": []
   },
   "outputs": [],
   "source": [
    "using Pkg\n",
    "Pkg.add(PackageSpec(url=\"https://github.com/JuliaReliab/JuliaDot.jl.git\"))"
   ]
  },
  {
   "cell_type": "markdown",
   "metadata": {
    "tags": []
   },
   "source": [
    "## Install Others"
   ]
  },
  {
   "cell_type": "code",
   "execution_count": null,
   "metadata": {
    "tags": []
   },
   "outputs": [],
   "source": [
    "# require the following packages.\n",
    "# Install them with the package mode.\n",
    "\n",
    "using Pkg\n",
    "Pkg.add(\"MAT\")\n",
    "Pkg.add(\"JSON\")\n",
    "Pkg.add(\"Plots\")\n",
    "Pkg.add(\"SparseArrays\")\n",
    "Pkg.add(\"Distributions\")"
   ]
  },
  {
   "cell_type": "markdown",
   "metadata": {},
   "source": [
    "## Initialize\n",
    "\n",
    "Load packages"
   ]
  },
  {
   "cell_type": "code",
   "execution_count": null,
   "metadata": {
    "tags": []
   },
   "outputs": [],
   "source": [
    "using Origin\n",
    "using SparseMatrix\n",
    "using NMarkov\n",
    "using SparseArrays\n",
    "using Plots\n",
    "using MAT\n",
    "using JSON\n",
    "using Distributions\n",
    "using JuliaDot"
   ]
  },
  {
   "cell_type": "markdown",
   "metadata": {},
   "source": [
    "## Example: GSPN\n",
    "\n",
    "Use the model: IaaS Cloud (monolithic)\n",
    "```\n",
    "  R. Ghosh, F. Longo, F. Frattini, S. Russo and K.S. Trivedi,\n",
    "  Scalable analytics for IaaS cloud availability,\n",
    "  IEEE Transactions on Cloud Computing, 2:1, 57-70, 2014.\n",
    "```"
   ]
  },
  {
   "cell_type": "markdown",
   "metadata": {},
   "source": [
    "### Draw a petrinet"
   ]
  },
  {
   "cell_type": "code",
   "execution_count": null,
   "metadata": {
    "tags": []
   },
   "outputs": [],
   "source": [
    "run(`./gospn view -i iaas_cloud.spn -o tmp.dot`)\n",
    "drawfile(\"tmp.dot\")"
   ]
  },
  {
   "cell_type": "markdown",
   "metadata": {},
   "source": [
    "### Generate the marking graph"
   ]
  },
  {
   "cell_type": "code",
   "execution_count": null,
   "metadata": {
    "tags": []
   },
   "outputs": [],
   "source": [
    "run(`./gospn mark -i iaas_cloud.spn -o result.mat -t -g gmark.dot`)\n",
    "matfile = matopen(\"result.mat\")"
   ]
  },
  {
   "cell_type": "code",
   "execution_count": null,
   "metadata": {
    "tags": []
   },
   "outputs": [],
   "source": [
    "drawfile(\"gmark.dot\")"
   ]
  },
  {
   "cell_type": "markdown",
   "metadata": {},
   "source": [
    "In the above graph, Gxx indicates EXP/GEN group where there is no enabled IMM transitions. Also Ixx indicates IMM group where there is one or more enabled IMM transitions. From the above graph, we find that there is no self-loop in I0. Then I0 can be vanished by\n",
    "```\n",
    "Q = G0G0E + G0I0E * I0G0I\n",
    "```"
   ]
  },
  {
   "cell_type": "code",
   "execution_count": null,
   "metadata": {
    "tags": []
   },
   "outputs": [],
   "source": [
    "# Read matrices\n",
    "G0G0E = read(matfile, \"G0G0E\")\n",
    "G0I0E = read(matfile, \"G0I0E\")\n",
    "I0G0I = read(matfile, \"I0G0I\");"
   ]
  },
  {
   "cell_type": "code",
   "execution_count": null,
   "metadata": {
    "tags": []
   },
   "outputs": [],
   "source": [
    "# CTMC transition matrix (IMM group should be vanished)\n",
    "Q = G0G0E + G0I0E * I0G0I;\n",
    "println(\"nnz \", length(Q.nzval) - Q.m)"
   ]
  },
  {
   "cell_type": "code",
   "execution_count": null,
   "metadata": {
    "tags": []
   },
   "outputs": [],
   "source": [
    "# initial probabiliyt vector\n",
    "x0 = read(matfile, \"initG0\");"
   ]
  },
  {
   "cell_type": "code",
   "execution_count": null,
   "metadata": {
    "tags": []
   },
   "outputs": [],
   "source": [
    "# load reward vector\n",
    "r1 = read(matfile, \"rwd1G0\"); #Ph\n",
    "r2 = read(matfile, \"rwd2G0\"); #Pw\n",
    "r3 = read(matfile, \"rwd3G0\"); #Pc"
   ]
  },
  {
   "cell_type": "code",
   "execution_count": null,
   "metadata": {
    "tags": []
   },
   "outputs": [],
   "source": [
    "# expected number of hot/warm/cold servers in steady state\n",
    "pis, conv, = stgs(Q)\n",
    "println(\"Convergence \", conv)\n",
    "println(\"# of hot servers \", sum(pis .* r1))\n",
    "println(\"# of warm servers \", sum(pis .* r2))\n",
    "println(\"# of cold servers \", sum(pis .* r3))"
   ]
  },
  {
   "cell_type": "code",
   "execution_count": null,
   "metadata": {
    "tags": []
   },
   "outputs": [],
   "source": [
    "# Transient\n",
    "ts = LinRange(0.0, 1000.0, 100)\n",
    "irwd1, crwd1, xt1, cxt1 = tran(Q, x0, r1, ts, forward=:T);\n",
    "irwd2, crwd2, xt2, cxt2 = tran(Q, x0, r2, ts, forward=:T);\n",
    "irwd3, crwd3, xt3, cxt3 = tran(Q, x0, r3, ts, forward=:T);"
   ]
  },
  {
   "cell_type": "code",
   "execution_count": null,
   "metadata": {
    "tags": []
   },
   "outputs": [],
   "source": [
    "plot(ts, [irwd1, irwd2, irwd3])"
   ]
  },
  {
   "cell_type": "code",
   "execution_count": null,
   "metadata": {
    "tags": []
   },
   "outputs": [],
   "source": [
    "println(\"# of hot servers  (time average) \", sum(cxt1 .* r1)/1000.0)\n",
    "println(\"# of warm servers (time average) \", sum(cxt1 .* r2)/1000.0)\n",
    "println(\"# of cold servers (time average) \", sum(cxt1 .* r3)/1000.0)"
   ]
  },
  {
   "cell_type": "markdown",
   "metadata": {},
   "source": [
    "## Example: MRSPN\n",
    "\n",
    "Use the model: RAID6\n",
    "```\n",
    "  F. Machida, R. Xia and K.S. Trivedi,\n",
    "  Performability modeling for RAID storage systems by Markov regenerative process,\n",
    "  IEEE Transactions on Dependable and Secure Computing\n",
    "```"
   ]
  },
  {
   "cell_type": "markdown",
   "metadata": {},
   "source": [
    "### Draw a Petrinet"
   ]
  },
  {
   "cell_type": "code",
   "execution_count": null,
   "metadata": {
    "tags": []
   },
   "outputs": [],
   "source": [
    "run(`./gospn view -i raid6.spn -o tmp.dot`)\n",
    "drawfile(\"tmp.dot\")"
   ]
  },
  {
   "cell_type": "markdown",
   "metadata": {},
   "source": [
    "### Generate the marking graph"
   ]
  },
  {
   "cell_type": "code",
   "execution_count": null,
   "metadata": {
    "tags": []
   },
   "outputs": [],
   "source": [
    "run(`./gospn mark -i raid6.spn -o result.mat -t -g gmark.dot`)\n",
    "matfile = matopen(\"result.mat\")"
   ]
  },
  {
   "cell_type": "code",
   "execution_count": null,
   "metadata": {
    "tags": []
   },
   "outputs": [],
   "source": [
    "# Draw a group grapah\n",
    "drawfile(\"gmark.dot\")"
   ]
  },
  {
   "cell_type": "markdown",
   "metadata": {},
   "source": [
    "This model includes two GEN transitions; Trecon and Trebuild. Thus there are three groups for markings\n",
    "- G0: There is no enabled GEN transition\n",
    "- G1: Trecon is enabled (# of states is 1)\n",
    "- G2: Trebuild is enabled (# of states is 2)\n",
    "Now we focus on the discrete-time Markov chain at time instants when G1 and G2 enters, so-called embedded Markov chain (EMC). G1 is "
   ]
  },
  {
   "cell_type": "code",
   "execution_count": null,
   "metadata": {
    "tags": []
   },
   "outputs": [],
   "source": [
    "# Read matrices\n",
    "G0G0E = read(matfile, \"G0G0E\")\n",
    "G0G2E = read(matfile, \"G0G2E\")\n",
    "G1G1E = read(matfile, \"G1G1E\")\n",
    "G1G0P1 = read(matfile, \"G1G0P1\")\n",
    "G2G0P0 = read(matfile, \"G2G0P0\")\n",
    "G2G2E = read(matfile, \"G2G2E\")\n",
    "G2G2P0 = read(matfile, \"G2G2P0\")\n",
    "G2I2E = read(matfile, \"G2I2E\")\n",
    "I2G1I = read(matfile, \"I2G1I\");"
   ]
  },
  {
   "cell_type": "code",
   "execution_count": null,
   "metadata": {
    "tags": []
   },
   "outputs": [],
   "source": [
    "# parameter for GEN dist\n",
    "MTTR1 = 2.0 # [hours]\n",
    "MTTR2 = 24.0; # [hours] reconfigure"
   ]
  },
  {
   "cell_type": "code",
   "execution_count": null,
   "metadata": {
    "tags": []
   },
   "outputs": [],
   "source": [
    "# Make EMC\n",
    "\n",
    "## Matrix on time instant of the end of state\n",
    "V0 = -G0G0E \\ eye(G0G0E)\n",
    "V1, V1c = mexpc(G1G1E, eye(G1G1E), MTTR2) # constant distribution\n",
    "V2, V2c = mexpc(G2G2E, eye(G2G2E), MTTR1) # constant distribution\n",
    "\n",
    "# indicies when all states are concatinated [V0, V1, V2]\n",
    "indices = [1:1, 2:2, 3:4] \n",
    "\n",
    "## Transition probability matrices for EMC.\n",
    "## This is constucted by the groupmark graph\n",
    "P = spzeros(AbstractMatrix{Float64}, 3, 3) # blockmatrix\n",
    "@origin P=>0 begin\n",
    "    P[0,2] = V0 * G0G2E\n",
    "    P[1,0] = V1 * G1G0P1\n",
    "    P[2,0] = V2 * G2G0P0\n",
    "    P[2,1] = V2 * G2I2E * I2G1I\n",
    "    P[2,2] = V2 * G2G2P0\n",
    "end\n",
    "P=sparse(block(P))"
   ]
  },
  {
   "cell_type": "code",
   "execution_count": null,
   "metadata": {
    "tags": []
   },
   "outputs": [],
   "source": [
    "# stationary vector for EMC\n",
    "pid = gth(Matrix(P))"
   ]
  },
  {
   "cell_type": "code",
   "execution_count": null,
   "metadata": {
    "tags": []
   },
   "outputs": [],
   "source": [
    "# sojourn time & stationary distribution\n",
    "S = spzeros(AbstractMatrix{Float64}, 3, 3) # blockmatrix\n",
    "@origin S=>0 begin\n",
    "    S[0,0] = V0\n",
    "    S[1,1] = V1c\n",
    "    S[2,2] = V2c\n",
    "end\n",
    "S=sparse(block(S))\n",
    "sojourn = S' * pid\n",
    "pis = sojourn / sum(sojourn)"
   ]
  },
  {
   "cell_type": "code",
   "execution_count": null,
   "metadata": {
    "tags": []
   },
   "outputs": [],
   "source": [
    "# Read reward\n",
    "availG0 = read(matfile, \"availG0\")\n",
    "availG1 = read(matfile, \"availG1\")\n",
    "availG2 = read(matfile, \"availG2\")\n",
    "unavailG0 = read(matfile, \"unavailG0\")\n",
    "unavailG1 = read(matfile, \"unavailG1\")\n",
    "unavailG2 = read(matfile, \"unavailG2\");"
   ]
  },
  {
   "cell_type": "code",
   "execution_count": null,
   "metadata": {
    "tags": []
   },
   "outputs": [],
   "source": [
    "@origin indices=>0 begin\n",
    "    avail = sum(pis[indices[0]] .* availG0) + sum(pis[indices[1]] .* availG1) + sum(pis[indices[2]] .* availG2)\n",
    "    unavail = sum(pis[indices[0]] .* unavailG0) + sum(pis[indices[1]] .* unavailG1) + sum(pis[indices[2]] .* unavailG2)\n",
    "end\n",
    "MTTDL = avail / unavail * MTTR2 / 24 /365"
   ]
  },
  {
   "cell_type": "markdown",
   "metadata": {},
   "source": [
    "## Example: MC simulation\n",
    "\n",
    "Use the model: IaaS Cloud (monolithic)\n",
    "```\n",
    "  R. Ghosh, F. Longo, F. Frattini, S. Russo and K.S. Trivedi,\n",
    "  Scalable analytics for IaaS cloud availability,\n",
    "  IEEE Transactions on Cloud Computing, 2:1, 57-70, 2014.\n",
    "```"
   ]
  },
  {
   "cell_type": "markdown",
   "metadata": {},
   "source": [
    "### Draw a petrinet"
   ]
  },
  {
   "cell_type": "code",
   "execution_count": null,
   "metadata": {
    "tags": []
   },
   "outputs": [],
   "source": [
    "run(`./gospn view -i iaas_cloud.spn -o tmp.dot`)\n",
    "drawfile(\"tmp.dot\")"
   ]
  },
  {
   "cell_type": "code",
   "execution_count": null,
   "metadata": {
    "tags": []
   },
   "outputs": [],
   "source": [
    "## generate config for simulation with JSON\n",
    "config = Dict(\n",
    "    \"time\" => 1000.0,   # the stop condition for one simulation\n",
    "    \"firings\" => 0,       # the stop condition for one simulation\n",
    "    \"simulations\" => 1000, # the number of simulation runs\n",
    "    \"rewards\" => [\"rwd1\", \"rwd2\", \"rwd3\"]\n",
    ")\n",
    "\n",
    "open(\"config.json\", \"w\") do f \n",
    "    write(f, JSON.json(config)) \n",
    "end;"
   ]
  },
  {
   "cell_type": "code",
   "execution_count": null,
   "metadata": {
    "tags": []
   },
   "outputs": [],
   "source": [
    "run(`./gospn sim -i iaas_cloud.spn -o result.mat -f config.json -s 12345`)\n",
    "matfile = matopen(\"result.mat\")\n",
    "keys(read(matfile))"
   ]
  },
  {
   "cell_type": "code",
   "execution_count": null,
   "metadata": {
    "tags": []
   },
   "outputs": [],
   "source": [
    "elapsedtime = read(matfile, \"elapsedtime\")\n",
    "rwd1 = read(matfile, \"rwd1_crwd\") ./ elapsedtime\n",
    "rwd2 = read(matfile, \"rwd2_crwd\") ./ elapsedtime\n",
    "rwd3 = read(matfile, \"rwd3_crwd\") ./ elapsedtime;"
   ]
  },
  {
   "cell_type": "code",
   "execution_count": null,
   "metadata": {
    "tags": []
   },
   "outputs": [],
   "source": [
    "# utility\n",
    "function meanConfidenceInterval(data, alpha)\n",
    "    n = length(data)\n",
    "    m = sum(data) / n\n",
    "    s = sqrt(sum((data .- m).^2) / (n-1))\n",
    "    h = quantile(TDist(n-1), 1-(1-alpha)/2) * s / sqrt(n)\n",
    "    (m, m-h, m+h)\n",
    "end"
   ]
  },
  {
   "cell_type": "code",
   "execution_count": null,
   "metadata": {
    "tags": []
   },
   "outputs": [],
   "source": [
    "println(meanConfidenceInterval(rwd1, 0.99))\n",
    "println(meanConfidenceInterval(rwd2, 0.99))\n",
    "println(meanConfidenceInterval(rwd3, 0.99))"
   ]
  },
  {
   "cell_type": "code",
   "execution_count": null,
   "metadata": {
    "tags": []
   },
   "outputs": [],
   "source": [
    "# Results from CTMC analysis\n",
    "# rwd1: the number of hot servers  (time average) 2.9970927984146303\n",
    "# rwd2: the number of warm servers (time average) 2.9796356056398428\n",
    "# rwd3: the number of cold servers (time average) 2.991510485351518"
   ]
  },
  {
   "cell_type": "code",
   "execution_count": null,
   "metadata": {},
   "outputs": [],
   "source": []
  }
 ],
 "metadata": {
  "kernelspec": {
   "display_name": "Julia 1.8.5",
   "language": "julia",
   "name": "julia-1.8"
  },
  "language_info": {
   "file_extension": ".jl",
   "mimetype": "application/julia",
   "name": "julia",
   "version": "1.8.5"
  }
 },
 "nbformat": 4,
 "nbformat_minor": 4
}
